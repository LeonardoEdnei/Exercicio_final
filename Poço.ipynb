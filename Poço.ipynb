{
 "cells": [
  {
   "cell_type": "code",
   "execution_count": 84,
   "metadata": {},
   "outputs": [
    {
     "name": "stdout",
     "output_type": "stream",
     "text": [
      "o buraco tem 10 metros de pronfundidade\n",
      "subiu = 2 metros\n",
      "desceu 1 metro e parou em: 1 metro\n",
      "subiu mais 2 e parou em 3 metros\n",
      "desceu 1 metro e parou em 2 metros\n",
      "ja subiu : 2 metros\n",
      "subiu mais 2 e parou em 4 metros\n",
      "desceu 1 metro e parou em 3 metros\n",
      "subiu mais 2 e parou em 5 metros\n",
      "desceu 1 metro e parou em 4 metros\n",
      "ja subiu : 4 metros\n",
      "subiu mais 2 e parou em 6 metros\n",
      "desceu 1 metro e parou em 5 metros\n",
      "subiu mais 2 e parou em 7 metros\n",
      "desceu 1 metro e parou em 6 metros\n",
      "ja subiu : 6 metros\n",
      "subiu mais 2 e parou em 8 metros\n",
      "desceu 1 metro e parou em 7 metros\n",
      "subiu mais 2 e parou em 9 metros\n",
      "desceu 1 metro e parou em 8 metros\n",
      "ja subiu : 8 metros\n",
      "chegou nos = 10 metros e saiu\n"
     ]
    }
   ],
   "source": [
    "class buraco():\n",
    "\n",
    "    def desce(self):\n",
    "        self.metros -= 1\n",
    "\n",
    "    def sobe(self):\n",
    "        self.metros += 2\n",
    "\n",
    "if __name__ == '__main__':\n",
    "    new = buraco()\n",
    "    new.metros = 0\n",
    "\n",
    "    print('o buraco tem 10 metros de pronfundidade')\n",
    "    new.sobe()\n",
    "    print('subiu =', new.metros, 'metros')\n",
    "    new.desce()\n",
    "    print('desceu 1 metro', 'e parou em:', new.metros, 'metro')\n",
    "    new.sobe()\n",
    "    print('subiu mais 2', 'e parou em', new.metros, 'metros')\n",
    "    new.desce()\n",
    "    print('desceu 1 metro', 'e parou em', new.metros, 'metros')\n",
    "    print('ja subiu :', new.metros, 'metros')\n",
    "    new.sobe()\n",
    "    print('subiu mais 2', 'e parou em', new.metros, 'metros')\n",
    "    new.desce()\n",
    "    print('desceu 1 metro', 'e parou em', new.metros, 'metros')\n",
    "    new.sobe()\n",
    "    print('subiu mais 2', 'e parou em', new.metros, 'metros')\n",
    "    new.desce()\n",
    "    print('desceu 1 metro', 'e parou em', new.metros, 'metros')\n",
    "    print('ja subiu :', new.metros, 'metros')\n",
    "    new.sobe()\n",
    "    print('subiu mais 2', 'e parou em', new.metros, 'metros')\n",
    "    new.desce()\n",
    "    print('desceu 1 metro', 'e parou em', new.metros, 'metros')\n",
    "    new.sobe()\n",
    "    print('subiu mais 2', 'e parou em', new.metros, 'metros')\n",
    "    new.desce()\n",
    "    print('desceu 1 metro', 'e parou em', new.metros, 'metros')\n",
    "    print('ja subiu :', new.metros, 'metros')\n",
    "    new.sobe()\n",
    "    print('subiu mais 2', 'e parou em', new.metros, 'metros')\n",
    "    new.desce()\n",
    "    print('desceu 1 metro', 'e parou em', new.metros, 'metros')\n",
    "    new.sobe()\n",
    "    print('subiu mais 2', 'e parou em', new.metros, 'metros')\n",
    "    new.desce()\n",
    "    print('desceu 1 metro', 'e parou em', new.metros, 'metros')\n",
    "    print('ja subiu :', new.metros, 'metros')\n",
    "    new.sobe()\n",
    "    print('chegou nos =', new.metros, 'metros e saiu')"
   ]
  },
  {
   "cell_type": "code",
   "execution_count": null,
   "metadata": {},
   "outputs": [],
   "source": []
  }
 ],
 "metadata": {
  "kernelspec": {
   "display_name": "Python 3",
   "language": "python",
   "name": "python3"
  },
  "language_info": {
   "codemirror_mode": {
    "name": "ipython",
    "version": 3
   },
   "file_extension": ".py",
   "mimetype": "text/x-python",
   "name": "python",
   "nbconvert_exporter": "python",
   "pygments_lexer": "ipython3",
   "version": "3.6.5"
  }
 },
 "nbformat": 4,
 "nbformat_minor": 2
}
