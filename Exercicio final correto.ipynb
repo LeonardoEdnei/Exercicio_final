{
 "cells": [
  {
   "cell_type": "code",
   "execution_count": 5,
   "metadata": {},
   "outputs": [],
   "source": [
    "import pandas as pd\n",
    "import numpy as np\n",
    "import matplotlib.pyplot as mp\n",
    "import seaborn as sb\n",
    "from string import ascii_letters\n",
    "\n",
    "\n",
    "%matplotlib inline"
   ]
  },
  {
   "cell_type": "code",
   "execution_count": 6,
   "metadata": {},
   "outputs": [],
   "source": [
    "cadastro_df = pd.read_csv('dataset/cadastro.csv.csv')\n",
    "salarios_df = pd.read_csv('dataset/salario_profissoes.csv.csv')"
   ]
  },
  {
   "cell_type": "code",
   "execution_count": 3,
   "metadata": {},
   "outputs": [
    {
     "data": {
      "text/html": [
       "<div>\n",
       "<style scoped>\n",
       "    .dataframe tbody tr th:only-of-type {\n",
       "        vertical-align: middle;\n",
       "    }\n",
       "\n",
       "    .dataframe tbody tr th {\n",
       "        vertical-align: top;\n",
       "    }\n",
       "\n",
       "    .dataframe thead th {\n",
       "        text-align: right;\n",
       "    }\n",
       "</style>\n",
       "<table border=\"1\" class=\"dataframe\">\n",
       "  <thead>\n",
       "    <tr style=\"text-align: right;\">\n",
       "      <th></th>\n",
       "      <th>nome</th>\n",
       "      <th>sobrenome</th>\n",
       "      <th>ano_nascimento</th>\n",
       "      <th>sexo</th>\n",
       "      <th>cidade</th>\n",
       "      <th>profissão</th>\n",
       "      <th>experiencia profissional</th>\n",
       "      <th>estado_civil</th>\n",
       "      <th>filhos</th>\n",
       "      <th>lazer_final_de_semana</th>\n",
       "      <th>pratica_esporte</th>\n",
       "      <th>qual_esporte</th>\n",
       "      <th>quanta_vezes_na_semana_pratica_esporte</th>\n",
       "      <th>tem carro</th>\n",
       "      <th>escolaridade</th>\n",
       "    </tr>\n",
       "  </thead>\n",
       "  <tbody>\n",
       "    <tr>\n",
       "      <th>0</th>\n",
       "      <td>Dirceu</td>\n",
       "      <td>Manolo</td>\n",
       "      <td>1985</td>\n",
       "      <td>m</td>\n",
       "      <td>São Vicente</td>\n",
       "      <td>Cientista de Dados</td>\n",
       "      <td>4</td>\n",
       "      <td>Casado</td>\n",
       "      <td>1</td>\n",
       "      <td>estudar, academia, jogar video game,surfar</td>\n",
       "      <td>sim</td>\n",
       "      <td>academia</td>\n",
       "      <td>3.0</td>\n",
       "      <td>sim</td>\n",
       "      <td>Ensino Superior</td>\n",
       "    </tr>\n",
       "    <tr>\n",
       "      <th>1</th>\n",
       "      <td>Maria</td>\n",
       "      <td>Silva</td>\n",
       "      <td>1970</td>\n",
       "      <td>f</td>\n",
       "      <td>Santos</td>\n",
       "      <td>dona de casa</td>\n",
       "      <td>2</td>\n",
       "      <td>Casada</td>\n",
       "      <td>3</td>\n",
       "      <td>ver tv</td>\n",
       "      <td>não</td>\n",
       "      <td>-</td>\n",
       "      <td>0.0</td>\n",
       "      <td>não</td>\n",
       "      <td>Ensino Médio</td>\n",
       "    </tr>\n",
       "  </tbody>\n",
       "</table>\n",
       "</div>"
      ],
      "text/plain": [
       "     nome sobrenome  ano_nascimento sexo       cidade           profissão  \\\n",
       "0  Dirceu    Manolo            1985    m  São Vicente  Cientista de Dados   \n",
       "1   Maria     Silva            1970    f       Santos        dona de casa   \n",
       "\n",
       "   experiencia profissional estado_civil  filhos  \\\n",
       "0                         4       Casado       1   \n",
       "1                         2       Casada       3   \n",
       "\n",
       "                        lazer_final_de_semana pratica_esporte qual_esporte  \\\n",
       "0  estudar, academia, jogar video game,surfar             sim     academia   \n",
       "1                                      ver tv             não            -   \n",
       "\n",
       "   quanta_vezes_na_semana_pratica_esporte tem carro     escolaridade  \n",
       "0                                     3.0       sim  Ensino Superior  \n",
       "1                                     0.0       não     Ensino Médio  "
      ]
     },
     "execution_count": 3,
     "metadata": {},
     "output_type": "execute_result"
    }
   ],
   "source": [
    "cadastro_df.head(2)"
   ]
  },
  {
   "cell_type": "markdown",
   "metadata": {},
   "source": [
    "Qual a idade média das pessoas no cadastro ?\n",
    "    R: a idade média das pessoas é de 33 anos "
   ]
  },
  {
   "cell_type": "code",
   "execution_count": 4,
   "metadata": {},
   "outputs": [],
   "source": [
    "cadastro_df['ano_atual'] = 2020"
   ]
  },
  {
   "cell_type": "code",
   "execution_count": 5,
   "metadata": {},
   "outputs": [],
   "source": [
    "cadastro_df['idade'] = cadastro_df['ano_atual'] - cadastro_df['ano_nascimento']"
   ]
  },
  {
   "cell_type": "code",
   "execution_count": 6,
   "metadata": {},
   "outputs": [
    {
     "data": {
      "text/plain": [
       "idade    33.0\n",
       "dtype: float64"
      ]
     },
     "execution_count": 6,
     "metadata": {},
     "output_type": "execute_result"
    }
   ],
   "source": [
    "cadastro_df[['idade']].mean().round(0)"
   ]
  },
  {
   "cell_type": "markdown",
   "metadata": {},
   "source": [
    "Quantos homens tem no cadastro ?\n",
    "    R: temos 16 homens no cadastro\n",
    "\n",
    "Quantas mulheres tem no cadastro ?\n",
    "    R: temos 14 mulheres no cadastro"
   ]
  },
  {
   "cell_type": "code",
   "execution_count": 7,
   "metadata": {},
   "outputs": [
    {
     "data": {
      "text/plain": [
       "m    16\n",
       "f    14\n",
       "Name: sexo, dtype: int64"
      ]
     },
     "execution_count": 7,
     "metadata": {},
     "output_type": "execute_result"
    }
   ],
   "source": [
    "cadastro_df['sexo'].value_counts()"
   ]
  },
  {
   "cell_type": "markdown",
   "metadata": {},
   "source": [
    "Qual a idade média dos homens?\n",
    "    R: a idade média dos homens é de 32 anos"
   ]
  },
  {
   "cell_type": "code",
   "execution_count": 8,
   "metadata": {},
   "outputs": [
    {
     "data": {
      "text/plain": [
       "idade    32.0\n",
       "dtype: float64"
      ]
     },
     "execution_count": 8,
     "metadata": {},
     "output_type": "execute_result"
    }
   ],
   "source": [
    "cadastro_homens_df = cadastro_df.loc[(cadastro_df.sexo == 'm')] \n",
    "cadastro_homens_df[['idade']].mean().round(0)"
   ]
  },
  {
   "cell_type": "markdown",
   "metadata": {},
   "source": [
    "Qual a idade média das mulheres?\n",
    "    R: a idade média dos homens é de 34 anos"
   ]
  },
  {
   "cell_type": "code",
   "execution_count": 9,
   "metadata": {},
   "outputs": [
    {
     "data": {
      "text/plain": [
       "idade    34.0\n",
       "dtype: float64"
      ]
     },
     "execution_count": 9,
     "metadata": {},
     "output_type": "execute_result"
    }
   ],
   "source": [
    "cadastro_mulheres_df = cadastro_df.loc[(cadastro_df.sexo == 'f')]\n",
    "cadastro_mulheres_df[['idade']].mean().round(0)"
   ]
  },
  {
   "cell_type": "markdown",
   "metadata": {},
   "source": [
    "Qual a idade média das mulheres? R: a idade média dos homens é de 34 anos\n",
    "    \n",
    "Qual a idade média dos homens? R: a idade média dos homens é de 32 anos"
   ]
  },
  {
   "cell_type": "code",
   "execution_count": 36,
   "metadata": {},
   "outputs": [
    {
     "data": {
      "text/plain": [
       "sexo\n",
       "f    34.0\n",
       "m    32.0\n",
       "Name: idade, dtype: float64"
      ]
     },
     "execution_count": 36,
     "metadata": {},
     "output_type": "execute_result"
    }
   ],
   "source": [
    "cadastro_df.groupby(by='sexo')['idade'].mean().round(0)"
   ]
  },
  {
   "cell_type": "markdown",
   "metadata": {},
   "source": [
    "Crie um gráfico de barras e mostre a distribuição de escolaridade no cadastro ?"
   ]
  },
  {
   "cell_type": "code",
   "execution_count": 10,
   "metadata": {},
   "outputs": [
    {
     "data": {
      "text/plain": [
       "<matplotlib.axes._subplots.AxesSubplot at 0x24e9cd60e80>"
      ]
     },
     "execution_count": 10,
     "metadata": {},
     "output_type": "execute_result"
    },
    {
     "data": {
      "image/png": "[encoded data removed]",
      "text/plain": [
       "<Figure size 432x288 with 1 Axes>"
      ]
     },
     "metadata": {},
     "output_type": "display_data"
    }
   ],
   "source": [
    "cadastro_df['escolaridade'].value_counts().plot(kind='bar')"
   ]
  },
  {
   "cell_type": "code",
   "execution_count": 11,
   "metadata": {},
   "outputs": [],
   "source": [
    "cadastro_df['escolaridade'].replace(\"ensino médio\", \"Ensino Médio\", inplace=True)\n",
    "cadastro_df['escolaridade'].replace(\"ensino Médio\", \"Ensino Médio\", inplace=True)\n",
    "cadastro_df['escolaridade'].replace(\"ensino superior\", \"Ensino Superior\", inplace=True)\n",
    "cadastro_df['escolaridade'].replace(\"Ensimo Tecnico\", \"Ensino Técnico\", inplace=True)\n",
    "cadastro_df['pratica_esporte'].replace('NaN','não', inplace=True)"
   ]
  },
  {
   "cell_type": "code",
   "execution_count": 12,
   "metadata": {},
   "outputs": [
    {
     "data": {
      "text/plain": [
       "<matplotlib.axes._subplots.AxesSubplot at 0x24e9d4f1f60>"
      ]
     },
     "execution_count": 12,
     "metadata": {},
     "output_type": "execute_result"
    },
    {
     "data": {
      "image/png": "[encoded data removed]",
      "text/plain": [
       "<Figure size 432x288 with 1 Axes>"
      ]
     },
     "metadata": {},
     "output_type": "display_data"
    }
   ],
   "source": [
    "cadastro_df['escolaridade'].value_counts().plot(kind='bar')"
   ]
  },
  {
   "cell_type": "markdown",
   "metadata": {},
   "source": [
    "Mostre a Média Salarial do cadastro ?\n",
    "    R: média salarial é de R$ 4.617"
   ]
  },
  {
   "cell_type": "code",
   "execution_count": 13,
   "metadata": {},
   "outputs": [],
   "source": [
    "salarios_df = salarios_df.rename(columns={\"Profissões\": \"profissão\"})"
   ]
  },
  {
   "cell_type": "code",
   "execution_count": 14,
   "metadata": {},
   "outputs": [],
   "source": [
    "cadastro_completo_df = cadastro_df.merge(salarios_df, left_on='profissão', right_on='profissão')"
   ]
  },
  {
   "cell_type": "code",
   "execution_count": 15,
   "metadata": {},
   "outputs": [],
   "source": [
    "cadastro_completo_df = cadastro_completo_df.rename(columns={\"experiencia profissional\":\"experiencia_profissional\"})\n",
    "cadastro_completo_df = cadastro_completo_df.rename(columns={\"salaior +3 anos\":\"salario +3 anos\"})\n",
    "salario_senior_df = cadastro_completo_df.loc[cadastro_completo_df.experiencia_profissional > 3]\n",
    "salario_senior_df = salario_senior_df.rename(columns={\"salario +3 anos\":\"salario\"})\n",
    "salario_senior_df = salario_senior_df.drop('salario até 3 anos', axis=1)\n",
    "salario_junior_df = cadastro_completo_df.loc[cadastro_completo_df.experiencia_profissional <= 3]\n",
    "salario_junior_df = salario_junior_df.rename(columns={\"salario até 3 anos\":\"salario\"})\n",
    "salario_junior_df = salario_junior_df.drop('salario +3 anos', axis=1)"
   ]
  },
  {
   "cell_type": "code",
   "execution_count": 16,
   "metadata": {},
   "outputs": [],
   "source": [
    "total_salario_senior = salario_senior_df[['salario']].sum()"
   ]
  },
  {
   "cell_type": "code",
   "execution_count": 17,
   "metadata": {},
   "outputs": [],
   "source": [
    "qtd_senior = salario_senior_df[['salario']].count()"
   ]
  },
  {
   "cell_type": "code",
   "execution_count": 18,
   "metadata": {},
   "outputs": [],
   "source": [
    "total_salario_junior = salario_junior_df[['salario']].sum()"
   ]
  },
  {
   "cell_type": "code",
   "execution_count": 19,
   "metadata": {},
   "outputs": [],
   "source": [
    "qtd_junior = salario_junior_df[['salario']].count()"
   ]
  },
  {
   "cell_type": "code",
   "execution_count": 20,
   "metadata": {},
   "outputs": [
    {
     "name": "stdout",
     "output_type": "stream",
     "text": [
      "salario    4617.0\n",
      "dtype: float64\n"
     ]
    }
   ],
   "source": [
    "média_salarial_do_cadastro = (total_salario_senior + total_salario_junior) / (qtd_senior + qtd_junior)\n",
    "print(média_salarial_do_cadastro.round(0))"
   ]
  },
  {
   "cell_type": "markdown",
   "metadata": {},
   "source": [
    "Quem tem o maior salário ?\n",
    "    R: Mirtes é quem tem o maior salario de R$ 20.000"
   ]
  },
  {
   "cell_type": "code",
   "execution_count": 21,
   "metadata": {},
   "outputs": [
    {
     "data": {
      "text/plain": [
       "20000"
      ]
     },
     "execution_count": 21,
     "metadata": {},
     "output_type": "execute_result"
    }
   ],
   "source": [
    "salario_senior_df['salario'].max()"
   ]
  },
  {
   "cell_type": "code",
   "execution_count": 22,
   "metadata": {},
   "outputs": [
    {
     "data": {
      "text/html": [
       "<div>\n",
       "<style scoped>\n",
       "    .dataframe tbody tr th:only-of-type {\n",
       "        vertical-align: middle;\n",
       "    }\n",
       "\n",
       "    .dataframe tbody tr th {\n",
       "        vertical-align: top;\n",
       "    }\n",
       "\n",
       "    .dataframe thead th {\n",
       "        text-align: right;\n",
       "    }\n",
       "</style>\n",
       "<table border=\"1\" class=\"dataframe\">\n",
       "  <thead>\n",
       "    <tr style=\"text-align: right;\">\n",
       "      <th></th>\n",
       "      <th>nome</th>\n",
       "      <th>sobrenome</th>\n",
       "      <th>ano_nascimento</th>\n",
       "      <th>sexo</th>\n",
       "      <th>cidade</th>\n",
       "      <th>profissão</th>\n",
       "      <th>experiencia_profissional</th>\n",
       "      <th>estado_civil</th>\n",
       "      <th>filhos</th>\n",
       "      <th>lazer_final_de_semana</th>\n",
       "      <th>pratica_esporte</th>\n",
       "      <th>qual_esporte</th>\n",
       "      <th>quanta_vezes_na_semana_pratica_esporte</th>\n",
       "      <th>tem carro</th>\n",
       "      <th>escolaridade</th>\n",
       "      <th>ano_atual</th>\n",
       "      <th>idade</th>\n",
       "      <th>salario</th>\n",
       "    </tr>\n",
       "  </thead>\n",
       "  <tbody>\n",
       "    <tr>\n",
       "      <th>9</th>\n",
       "      <td>Mirtes</td>\n",
       "      <td>NaN</td>\n",
       "      <td>1976</td>\n",
       "      <td>f</td>\n",
       "      <td>Vitoria</td>\n",
       "      <td>Médica</td>\n",
       "      <td>5</td>\n",
       "      <td>Casada</td>\n",
       "      <td>2</td>\n",
       "      <td>leitura e ficar com os filhos</td>\n",
       "      <td>sim</td>\n",
       "      <td>crossfit</td>\n",
       "      <td>3.0</td>\n",
       "      <td>sim</td>\n",
       "      <td>Ensino Superior</td>\n",
       "      <td>2020</td>\n",
       "      <td>44</td>\n",
       "      <td>20000</td>\n",
       "    </tr>\n",
       "  </tbody>\n",
       "</table>\n",
       "</div>"
      ],
      "text/plain": [
       "     nome sobrenome  ano_nascimento sexo   cidade profissão  \\\n",
       "9  Mirtes       NaN            1976    f  Vitoria    Médica   \n",
       "\n",
       "   experiencia_profissional estado_civil  filhos  \\\n",
       "9                         5       Casada       2   \n",
       "\n",
       "           lazer_final_de_semana pratica_esporte qual_esporte  \\\n",
       "9  leitura e ficar com os filhos             sim     crossfit   \n",
       "\n",
       "   quanta_vezes_na_semana_pratica_esporte tem carro     escolaridade  \\\n",
       "9                                     3.0       sim  Ensino Superior   \n",
       "\n",
       "   ano_atual  idade  salario  \n",
       "9       2020     44    20000  "
      ]
     },
     "execution_count": 22,
     "metadata": {},
     "output_type": "execute_result"
    }
   ],
   "source": [
    "maior_salario = salario_senior_df.loc[salario_senior_df.salario >= 20000]\n",
    "maior_salario"
   ]
  },
  {
   "cell_type": "markdown",
   "metadata": {},
   "source": [
    "Tirando desempregado quem recebe menos ?\n",
    "    R: Maria Silva é quem recebe menos, com um salario de R$1.200"
   ]
  },
  {
   "cell_type": "code",
   "execution_count": 23,
   "metadata": {},
   "outputs": [],
   "source": [
    "recebe_menos_df = salario_junior_df.loc[salario_junior_df.salario > 0]"
   ]
  },
  {
   "cell_type": "code",
   "execution_count": 24,
   "metadata": {},
   "outputs": [
    {
     "data": {
      "text/plain": [
       "1200"
      ]
     },
     "execution_count": 24,
     "metadata": {},
     "output_type": "execute_result"
    }
   ],
   "source": [
    "recebe_menos_df['salario'].min()"
   ]
  },
  {
   "cell_type": "code",
   "execution_count": 25,
   "metadata": {},
   "outputs": [
    {
     "data": {
      "text/html": [
       "<div>\n",
       "<style scoped>\n",
       "    .dataframe tbody tr th:only-of-type {\n",
       "        vertical-align: middle;\n",
       "    }\n",
       "\n",
       "    .dataframe tbody tr th {\n",
       "        vertical-align: top;\n",
       "    }\n",
       "\n",
       "    .dataframe thead th {\n",
       "        text-align: right;\n",
       "    }\n",
       "</style>\n",
       "<table border=\"1\" class=\"dataframe\">\n",
       "  <thead>\n",
       "    <tr style=\"text-align: right;\">\n",
       "      <th></th>\n",
       "      <th>nome</th>\n",
       "      <th>sobrenome</th>\n",
       "      <th>ano_nascimento</th>\n",
       "      <th>sexo</th>\n",
       "      <th>cidade</th>\n",
       "      <th>profissão</th>\n",
       "      <th>experiencia_profissional</th>\n",
       "      <th>estado_civil</th>\n",
       "      <th>filhos</th>\n",
       "      <th>lazer_final_de_semana</th>\n",
       "      <th>pratica_esporte</th>\n",
       "      <th>qual_esporte</th>\n",
       "      <th>quanta_vezes_na_semana_pratica_esporte</th>\n",
       "      <th>tem carro</th>\n",
       "      <th>escolaridade</th>\n",
       "      <th>ano_atual</th>\n",
       "      <th>idade</th>\n",
       "      <th>salario</th>\n",
       "    </tr>\n",
       "  </thead>\n",
       "  <tbody>\n",
       "    <tr>\n",
       "      <th>1</th>\n",
       "      <td>Maria</td>\n",
       "      <td>Silva</td>\n",
       "      <td>1970</td>\n",
       "      <td>f</td>\n",
       "      <td>Santos</td>\n",
       "      <td>dona de casa</td>\n",
       "      <td>2</td>\n",
       "      <td>Casada</td>\n",
       "      <td>3</td>\n",
       "      <td>ver tv</td>\n",
       "      <td>não</td>\n",
       "      <td>-</td>\n",
       "      <td>0.0</td>\n",
       "      <td>não</td>\n",
       "      <td>Ensino Médio</td>\n",
       "      <td>2020</td>\n",
       "      <td>50</td>\n",
       "      <td>1200</td>\n",
       "    </tr>\n",
       "  </tbody>\n",
       "</table>\n",
       "</div>"
      ],
      "text/plain": [
       "    nome sobrenome  ano_nascimento sexo  cidade     profissão  \\\n",
       "1  Maria     Silva            1970    f  Santos  dona de casa   \n",
       "\n",
       "   experiencia_profissional estado_civil  filhos lazer_final_de_semana  \\\n",
       "1                         2       Casada       3                ver tv   \n",
       "\n",
       "  pratica_esporte qual_esporte  quanta_vezes_na_semana_pratica_esporte  \\\n",
       "1             não            -                                     0.0   \n",
       "\n",
       "  tem carro  escolaridade  ano_atual  idade  salario  \n",
       "1       não  Ensino Médio       2020     50     1200  "
      ]
     },
     "execution_count": 25,
     "metadata": {},
     "output_type": "execute_result"
    }
   ],
   "source": [
    "recebe_menos = recebe_menos_df.loc[recebe_menos_df.salario == 1200]\n",
    "recebe_menos"
   ]
  },
  {
   "cell_type": "markdown",
   "metadata": {},
   "source": [
    "Quantas pessoas gostam de caminhar no final de semana ?\n",
    "    R: 4 pessoas gostam de caminhar"
   ]
  },
  {
   "cell_type": "code",
   "execution_count": 26,
   "metadata": {},
   "outputs": [],
   "source": [
    "cadastro_df['lazer_final_de_semana'].replace('caminhar, ficar com os filhos','caminhar', inplace=True)\n",
    "cadastro_df['lazer_final_de_semana'].replace('caminhar, ler livros e ficar com o filho','caminhar', inplace=True)"
   ]
  },
  {
   "cell_type": "code",
   "execution_count": 40,
   "metadata": {},
   "outputs": [
    {
     "data": {
      "text/html": [
       "<div>\n",
       "<style scoped>\n",
       "    .dataframe tbody tr th:only-of-type {\n",
       "        vertical-align: middle;\n",
       "    }\n",
       "\n",
       "    .dataframe tbody tr th {\n",
       "        vertical-align: top;\n",
       "    }\n",
       "\n",
       "    .dataframe thead th {\n",
       "        text-align: right;\n",
       "    }\n",
       "</style>\n",
       "<table border=\"1\" class=\"dataframe\">\n",
       "  <thead>\n",
       "    <tr style=\"text-align: right;\">\n",
       "      <th></th>\n",
       "      <th>ano_atual</th>\n",
       "    </tr>\n",
       "    <tr>\n",
       "      <th>lazer_final_de_semana</th>\n",
       "      <th></th>\n",
       "    </tr>\n",
       "  </thead>\n",
       "  <tbody>\n",
       "    <tr>\n",
       "      <th>Nã faço nada</th>\n",
       "      <td>1</td>\n",
       "    </tr>\n",
       "    <tr>\n",
       "      <th>academia, limpeza de casa</th>\n",
       "      <td>1</td>\n",
       "    </tr>\n",
       "    <tr>\n",
       "      <th>barzinho com os amigos</th>\n",
       "      <td>1</td>\n",
       "    </tr>\n",
       "    <tr>\n",
       "      <th>barzinho com os amigos e descançar</th>\n",
       "      <td>2</td>\n",
       "    </tr>\n",
       "    <tr>\n",
       "      <th>caminhar</th>\n",
       "      <td>4</td>\n",
       "    </tr>\n",
       "    <tr>\n",
       "      <th>churrasco</th>\n",
       "      <td>1</td>\n",
       "    </tr>\n",
       "    <tr>\n",
       "      <th>correr e ficar com os amigos</th>\n",
       "      <td>1</td>\n",
       "    </tr>\n",
       "    <tr>\n",
       "      <th>correr na rua</th>\n",
       "      <td>1</td>\n",
       "    </tr>\n",
       "    <tr>\n",
       "      <th>correr, ler, estudar e ficar com os amigos</th>\n",
       "      <td>2</td>\n",
       "    </tr>\n",
       "    <tr>\n",
       "      <th>estudar, academia, jogar video game,surfar</th>\n",
       "      <td>1</td>\n",
       "    </tr>\n",
       "    <tr>\n",
       "      <th>estudo</th>\n",
       "      <td>1</td>\n",
       "    </tr>\n",
       "    <tr>\n",
       "      <th>fico com meus filhos, durante a semana não tenho tempo.</th>\n",
       "      <td>1</td>\n",
       "    </tr>\n",
       "    <tr>\n",
       "      <th>fico em casa</th>\n",
       "      <td>1</td>\n",
       "    </tr>\n",
       "    <tr>\n",
       "      <th>final de semana tiro para descançar</th>\n",
       "      <td>1</td>\n",
       "    </tr>\n",
       "    <tr>\n",
       "      <th>jogar bola</th>\n",
       "      <td>1</td>\n",
       "    </tr>\n",
       "    <tr>\n",
       "      <th>jogo bola</th>\n",
       "      <td>2</td>\n",
       "    </tr>\n",
       "    <tr>\n",
       "      <th>leitura e ficar com minha filha</th>\n",
       "      <td>1</td>\n",
       "    </tr>\n",
       "    <tr>\n",
       "      <th>leitura e ficar com os filhos</th>\n",
       "      <td>1</td>\n",
       "    </tr>\n",
       "    <tr>\n",
       "      <th>leitura, limpo a casa</th>\n",
       "      <td>1</td>\n",
       "    </tr>\n",
       "    <tr>\n",
       "      <th>nada</th>\n",
       "      <td>1</td>\n",
       "    </tr>\n",
       "    <tr>\n",
       "      <th>não faço nada</th>\n",
       "      <td>1</td>\n",
       "    </tr>\n",
       "    <tr>\n",
       "      <th>só jogo bola</th>\n",
       "      <td>1</td>\n",
       "    </tr>\n",
       "    <tr>\n",
       "      <th>só jogo bola, gosto de ficar com os amigos em churrasco</th>\n",
       "      <td>1</td>\n",
       "    </tr>\n",
       "    <tr>\n",
       "      <th>ver tv</th>\n",
       "      <td>1</td>\n",
       "    </tr>\n",
       "  </tbody>\n",
       "</table>\n",
       "</div>"
      ],
      "text/plain": [
       "                                                    ano_atual\n",
       "lazer_final_de_semana                                        \n",
       "Nã faço nada                                                1\n",
       "academia, limpeza de casa                                   1\n",
       "barzinho com os amigos                                      1\n",
       "barzinho com os amigos e descançar                          2\n",
       "caminhar                                                    4\n",
       "churrasco                                                   1\n",
       "correr e ficar com os amigos                                1\n",
       "correr na rua                                               1\n",
       "correr, ler, estudar e ficar com os amigos                  2\n",
       "estudar, academia, jogar video game,surfar                  1\n",
       "estudo                                                      1\n",
       "fico com meus filhos, durante a semana não tenh...          1\n",
       "fico em casa                                                1\n",
       "final de semana tiro para descançar                         1\n",
       "jogar bola                                                  1\n",
       "jogo bola                                                   2\n",
       "leitura e ficar com minha filha                             1\n",
       "leitura e ficar com os filhos                               1\n",
       "leitura, limpo a casa                                       1\n",
       "nada                                                        1\n",
       "não faço nada                                               1\n",
       "só jogo bola                                                1\n",
       "só jogo bola, gosto de ficar com os amigos em c...          1\n",
       "ver tv                                                      1"
      ]
     },
     "execution_count": 40,
     "metadata": {},
     "output_type": "execute_result"
    }
   ],
   "source": [
    "cadastro_df[[\"lazer_final_de_semana\", \"ano_atual\"]].groupby(\"lazer_final_de_semana\").count()"
   ]
  },
  {
   "cell_type": "code",
   "execution_count": 31,
   "metadata": {},
   "outputs": [
    {
     "name": "stdout",
     "output_type": "stream",
     "text": [
      "Existem 4 pessoas que gostam de \"caminhar\"\n"
     ]
    }
   ],
   "source": [
    "with open (\"cadastro.csv.csv\", \"r\", encoding = 'utf-8') as arq:\n",
    "    caminham = arq.read().count('caminhar')\n",
    "    print('Existem' ,caminham, 'pessoas que gostam de \"caminhar\"')"
   ]
  },
  {
   "cell_type": "code",
   "execution_count": 32,
   "metadata": {},
   "outputs": [
    {
     "name": "stdout",
     "output_type": "stream",
     "text": [
      "escolaridade     Ensino Médio  Ensino Superior  Ensino Técnico\n",
      "pratica_esporte                                               \n",
      "não                         5                5               0\n",
      "sim                         3               15               1\n"
     ]
    },
    {
     "data": {
      "text/plain": [
       "<matplotlib.axes._subplots.AxesSubplot at 0x24e9e581780>"
      ]
     },
     "execution_count": 32,
     "metadata": {},
     "output_type": "execute_result"
    },
    {
     "data": {
      "image/png": "[encoded data removed]",
      "text/plain": [
       "<Figure size 432x288 with 1 Axes>"
      ]
     },
     "metadata": {},
     "output_type": "display_data"
    }
   ],
   "source": [
    "df_grafico = cadastro_df[['escolaridade','pratica_esporte']]\n",
    "crosstab = pd.crosstab(cadastro_df['pratica_esporte'],cadastro_df['escolaridade'])\n",
    "\n",
    "print(crosstab)\n",
    "\n",
    "crosstab['total'] = crosstab.sum(axis=1)\n",
    "crosstab.plot(kind='bar' , title = 'Relação Escolaridade vs Pratica Esporte')"
   ]
  },
  {
   "cell_type": "markdown",
   "metadata": {},
   "source": [
    "Mostre de forma gráfica a distribuição de estados do cadastro ?\n"
   ]
  },
  {
   "cell_type": "code",
   "execution_count": 42,
   "metadata": {},
   "outputs": [
    {
     "data": {
      "text/plain": [
       "<matplotlib.axes._subplots.AxesSubplot at 0x24e9ea75d30>"
      ]
     },
     "execution_count": 42,
     "metadata": {},
     "output_type": "execute_result"
    },
    {
     "data": {
      "image/png": "[encoded data removed]",
      "text/plain": [
       "<Figure size 432x288 with 1 Axes>"
      ]
     },
     "metadata": {},
     "output_type": "display_data"
    }
   ],
   "source": [
    "cadastro_completo_df['cidade'].value_counts().plot(kind='bar')"
   ]
  },
  {
   "cell_type": "code",
   "execution_count": 43,
   "metadata": {},
   "outputs": [
    {
     "data": {
      "text/html": [
       "<div>\n",
       "<style scoped>\n",
       "    .dataframe tbody tr th:only-of-type {\n",
       "        vertical-align: middle;\n",
       "    }\n",
       "\n",
       "    .dataframe tbody tr th {\n",
       "        vertical-align: top;\n",
       "    }\n",
       "\n",
       "    .dataframe thead th {\n",
       "        text-align: right;\n",
       "    }\n",
       "</style>\n",
       "<table border=\"1\" class=\"dataframe\">\n",
       "  <thead>\n",
       "    <tr style=\"text-align: right;\">\n",
       "      <th></th>\n",
       "      <th>ano_nascimento</th>\n",
       "      <th>experiencia profissional</th>\n",
       "      <th>filhos</th>\n",
       "      <th>quanta_vezes_na_semana_pratica_esporte</th>\n",
       "      <th>ano_atual</th>\n",
       "      <th>idade</th>\n",
       "    </tr>\n",
       "  </thead>\n",
       "  <tbody>\n",
       "    <tr>\n",
       "      <th>ano_nascimento</th>\n",
       "      <td>1.000000</td>\n",
       "      <td>-0.257518</td>\n",
       "      <td>-0.389758</td>\n",
       "      <td>0.129391</td>\n",
       "      <td>NaN</td>\n",
       "      <td>-1.000000</td>\n",
       "    </tr>\n",
       "    <tr>\n",
       "      <th>experiencia profissional</th>\n",
       "      <td>-0.257518</td>\n",
       "      <td>1.000000</td>\n",
       "      <td>0.417138</td>\n",
       "      <td>-0.031397</td>\n",
       "      <td>NaN</td>\n",
       "      <td>0.257518</td>\n",
       "    </tr>\n",
       "    <tr>\n",
       "      <th>filhos</th>\n",
       "      <td>-0.389758</td>\n",
       "      <td>0.417138</td>\n",
       "      <td>1.000000</td>\n",
       "      <td>-0.172890</td>\n",
       "      <td>NaN</td>\n",
       "      <td>0.389758</td>\n",
       "    </tr>\n",
       "    <tr>\n",
       "      <th>quanta_vezes_na_semana_pratica_esporte</th>\n",
       "      <td>0.129391</td>\n",
       "      <td>-0.031397</td>\n",
       "      <td>-0.172890</td>\n",
       "      <td>1.000000</td>\n",
       "      <td>NaN</td>\n",
       "      <td>-0.129391</td>\n",
       "    </tr>\n",
       "    <tr>\n",
       "      <th>ano_atual</th>\n",
       "      <td>NaN</td>\n",
       "      <td>NaN</td>\n",
       "      <td>NaN</td>\n",
       "      <td>NaN</td>\n",
       "      <td>NaN</td>\n",
       "      <td>NaN</td>\n",
       "    </tr>\n",
       "    <tr>\n",
       "      <th>idade</th>\n",
       "      <td>-1.000000</td>\n",
       "      <td>0.257518</td>\n",
       "      <td>0.389758</td>\n",
       "      <td>-0.129391</td>\n",
       "      <td>NaN</td>\n",
       "      <td>1.000000</td>\n",
       "    </tr>\n",
       "  </tbody>\n",
       "</table>\n",
       "</div>"
      ],
      "text/plain": [
       "                                        ano_nascimento  \\\n",
       "ano_nascimento                                1.000000   \n",
       "experiencia profissional                     -0.257518   \n",
       "filhos                                       -0.389758   \n",
       "quanta_vezes_na_semana_pratica_esporte        0.129391   \n",
       "ano_atual                                          NaN   \n",
       "idade                                        -1.000000   \n",
       "\n",
       "                                        experiencia profissional    filhos  \\\n",
       "ano_nascimento                                         -0.257518 -0.389758   \n",
       "experiencia profissional                                1.000000  0.417138   \n",
       "filhos                                                  0.417138  1.000000   \n",
       "quanta_vezes_na_semana_pratica_esporte                 -0.031397 -0.172890   \n",
       "ano_atual                                                    NaN       NaN   \n",
       "idade                                                   0.257518  0.389758   \n",
       "\n",
       "                                        quanta_vezes_na_semana_pratica_esporte  \\\n",
       "ano_nascimento                                                        0.129391   \n",
       "experiencia profissional                                             -0.031397   \n",
       "filhos                                                               -0.172890   \n",
       "quanta_vezes_na_semana_pratica_esporte                                1.000000   \n",
       "ano_atual                                                                  NaN   \n",
       "idade                                                                -0.129391   \n",
       "\n",
       "                                        ano_atual     idade  \n",
       "ano_nascimento                                NaN -1.000000  \n",
       "experiencia profissional                      NaN  0.257518  \n",
       "filhos                                        NaN  0.389758  \n",
       "quanta_vezes_na_semana_pratica_esporte        NaN -0.129391  \n",
       "ano_atual                                     NaN       NaN  \n",
       "idade                                         NaN  1.000000  "
      ]
     },
     "execution_count": 43,
     "metadata": {},
     "output_type": "execute_result"
    }
   ],
   "source": [
    "cadastro_df.corr()"
   ]
  },
  {
   "cell_type": "code",
   "execution_count": 8,
   "metadata": {},
   "outputs": [
    {
     "data": {
      "text/plain": [
       "<matplotlib.axes._subplots.AxesSubplot at 0x20211520278>"
      ]
     },
     "execution_count": 8,
     "metadata": {},
     "output_type": "execute_result"
    },
    {
     "data": {
      "image/png": "[encoded data removed]",
      "text/plain": [
       "<Figure size 792x648 with 2 Axes>"
      ]
     },
     "metadata": {},
     "output_type": "display_data"
    }
   ],
   "source": [
    "mapa_df = pd.read_csv('cadastro.csv.csv')\n",
    "\n",
    "mapa_calor_df = pd.crosstab(df['nome'],df['filhos'])\n",
    "\n",
    "mapa_calor_df['total'] = mapa_calor_df.sum(axis=1)\n",
    "\n",
    "corr = mapa_calor_df.corr()\n",
    "\n",
    "mask = np.triu(np.ones_like(corr, dtype=bool))\n",
    "\n",
    "f, ax = mp.subplots(figsize=(11, 9))\n",
    "\n",
    "sb.heatmap(corr, mask=mask, vmax=.3, center=0,\n",
    "            square=True, linewidths=.5, cbar_kws={\"shrink\": .5})"
   ]
  },
  {
   "cell_type": "code",
   "execution_count": null,
   "metadata": {},
   "outputs": [],
   "source": []
  }
 ],
 "metadata": {
  "kernelspec": {
   "display_name": "Python 3",
   "language": "python",
   "name": "python3"
  },
  "language_info": {
   "codemirror_mode": {
    "name": "ipython",
    "version": 3
   },
   "file_extension": ".py",
   "mimetype": "text/x-python",
   "name": "python",
   "nbconvert_exporter": "python",
   "pygments_lexer": "ipython3",
   "version": "3.6.5"
  }
 },
 "nbformat": 4,
 "nbformat_minor": 2
}
